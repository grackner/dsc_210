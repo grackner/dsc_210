{
 "cells": [
  {
   "cell_type": "markdown",
   "metadata": {
    "id": "RSnj1xw1Eohx"
   },
   "source": [
    "Predicting Home Prices"
   ]
  },
  {
   "cell_type": "code",
   "execution_count": 1,
   "metadata": {
    "id": "cc7MqEYZEkxY"
   },
   "outputs": [],
   "source": [
    "import pandas as pd\n",
    "from sklearn.model_selection import train_test_split\n",
    "from sklearn.metrics import mean_squared_error, mean_absolute_error, r2_score\n",
    "from sklearn.linear_model import LinearRegression\n",
    "from sklearn.linear_model import Lasso\n",
    "from math import sqrt\n",
    "import warnings\n",
    "warnings.filterwarnings('ignore')"
   ]
  },
  {
   "cell_type": "code",
   "execution_count": 2,
   "metadata": {
    "id": "pZ-ZTmHmErSm"
   },
   "outputs": [],
   "source": [
    "# Read in training and test data\n",
    "features_train = pd.read_csv('X_train.csv', index_col = 0)\n",
    "features_test = pd.read_csv('X_test.csv', index_col = 0)\n",
    "labels_train = pd.read_csv('y_train.csv', index_col = 0).squeeze()\n",
    "labels_test = pd.read_csv('y_test.csv', index_col = 0).squeeze()"
   ]
  },
  {
   "cell_type": "code",
   "execution_count": 3,
   "metadata": {
    "colab": {
     "base_uri": "https://localhost:8080/",
     "height": 273
    },
    "id": "MqcyG9zIE6k6",
    "outputId": "bc0af0a9-5d0b-4fd0-920d-cdcf69b9d664"
   },
   "outputs": [
    {
     "data": {
      "text/html": [
       "<div>\n",
       "<style scoped>\n",
       "    .dataframe tbody tr th:only-of-type {\n",
       "        vertical-align: middle;\n",
       "    }\n",
       "\n",
       "    .dataframe tbody tr th {\n",
       "        vertical-align: top;\n",
       "    }\n",
       "\n",
       "    .dataframe thead th {\n",
       "        text-align: right;\n",
       "    }\n",
       "</style>\n",
       "<table border=\"1\" class=\"dataframe\">\n",
       "  <thead>\n",
       "    <tr style=\"text-align: right;\">\n",
       "      <th></th>\n",
       "      <th>size_bath_interaction</th>\n",
       "      <th>city_Acton</th>\n",
       "      <th>city_Adelanto</th>\n",
       "      <th>city_Adin</th>\n",
       "      <th>city_Agoura</th>\n",
       "      <th>city_Agoura Hills</th>\n",
       "      <th>city_Agua Dulce</th>\n",
       "      <th>city_Aguanga</th>\n",
       "      <th>city_Ahwahnee</th>\n",
       "      <th>city_Alameda</th>\n",
       "      <th>...</th>\n",
       "      <th>city_Yorba Linda</th>\n",
       "      <th>city_Yorkville</th>\n",
       "      <th>city_Yosemite West</th>\n",
       "      <th>city_Yountville</th>\n",
       "      <th>city_Yreka</th>\n",
       "      <th>city_Yuba City</th>\n",
       "      <th>city_Yucaipa</th>\n",
       "      <th>city_Yucca Valley</th>\n",
       "      <th>city_Zamora</th>\n",
       "      <th>city_Zenia</th>\n",
       "    </tr>\n",
       "  </thead>\n",
       "  <tbody>\n",
       "    <tr>\n",
       "      <th>68244</th>\n",
       "      <td>3364.0</td>\n",
       "      <td>0</td>\n",
       "      <td>0</td>\n",
       "      <td>0</td>\n",
       "      <td>0</td>\n",
       "      <td>0</td>\n",
       "      <td>0</td>\n",
       "      <td>0</td>\n",
       "      <td>0</td>\n",
       "      <td>0</td>\n",
       "      <td>...</td>\n",
       "      <td>0</td>\n",
       "      <td>0</td>\n",
       "      <td>0</td>\n",
       "      <td>0</td>\n",
       "      <td>0</td>\n",
       "      <td>0</td>\n",
       "      <td>0</td>\n",
       "      <td>0</td>\n",
       "      <td>0</td>\n",
       "      <td>0</td>\n",
       "    </tr>\n",
       "    <tr>\n",
       "      <th>27671</th>\n",
       "      <td>8907.0</td>\n",
       "      <td>0</td>\n",
       "      <td>0</td>\n",
       "      <td>0</td>\n",
       "      <td>0</td>\n",
       "      <td>0</td>\n",
       "      <td>0</td>\n",
       "      <td>0</td>\n",
       "      <td>0</td>\n",
       "      <td>0</td>\n",
       "      <td>...</td>\n",
       "      <td>0</td>\n",
       "      <td>0</td>\n",
       "      <td>0</td>\n",
       "      <td>0</td>\n",
       "      <td>0</td>\n",
       "      <td>0</td>\n",
       "      <td>0</td>\n",
       "      <td>0</td>\n",
       "      <td>0</td>\n",
       "      <td>0</td>\n",
       "    </tr>\n",
       "    <tr>\n",
       "      <th>11895</th>\n",
       "      <td>6699.0</td>\n",
       "      <td>0</td>\n",
       "      <td>0</td>\n",
       "      <td>0</td>\n",
       "      <td>0</td>\n",
       "      <td>0</td>\n",
       "      <td>0</td>\n",
       "      <td>0</td>\n",
       "      <td>0</td>\n",
       "      <td>0</td>\n",
       "      <td>...</td>\n",
       "      <td>0</td>\n",
       "      <td>0</td>\n",
       "      <td>0</td>\n",
       "      <td>0</td>\n",
       "      <td>0</td>\n",
       "      <td>0</td>\n",
       "      <td>0</td>\n",
       "      <td>0</td>\n",
       "      <td>0</td>\n",
       "      <td>0</td>\n",
       "    </tr>\n",
       "    <tr>\n",
       "      <th>60535</th>\n",
       "      <td>3400.0</td>\n",
       "      <td>0</td>\n",
       "      <td>0</td>\n",
       "      <td>0</td>\n",
       "      <td>0</td>\n",
       "      <td>0</td>\n",
       "      <td>0</td>\n",
       "      <td>0</td>\n",
       "      <td>0</td>\n",
       "      <td>0</td>\n",
       "      <td>...</td>\n",
       "      <td>0</td>\n",
       "      <td>0</td>\n",
       "      <td>0</td>\n",
       "      <td>0</td>\n",
       "      <td>0</td>\n",
       "      <td>0</td>\n",
       "      <td>0</td>\n",
       "      <td>0</td>\n",
       "      <td>0</td>\n",
       "      <td>0</td>\n",
       "    </tr>\n",
       "    <tr>\n",
       "      <th>36982</th>\n",
       "      <td>2648.0</td>\n",
       "      <td>0</td>\n",
       "      <td>0</td>\n",
       "      <td>0</td>\n",
       "      <td>0</td>\n",
       "      <td>0</td>\n",
       "      <td>0</td>\n",
       "      <td>0</td>\n",
       "      <td>0</td>\n",
       "      <td>0</td>\n",
       "      <td>...</td>\n",
       "      <td>0</td>\n",
       "      <td>0</td>\n",
       "      <td>0</td>\n",
       "      <td>0</td>\n",
       "      <td>0</td>\n",
       "      <td>0</td>\n",
       "      <td>0</td>\n",
       "      <td>0</td>\n",
       "      <td>0</td>\n",
       "      <td>0</td>\n",
       "    </tr>\n",
       "  </tbody>\n",
       "</table>\n",
       "<p>5 rows × 1254 columns</p>\n",
       "</div>"
      ],
      "text/plain": [
       "       size_bath_interaction  city_Acton  city_Adelanto  city_Adin  \\\n",
       "68244                 3364.0           0              0          0   \n",
       "27671                 8907.0           0              0          0   \n",
       "11895                 6699.0           0              0          0   \n",
       "60535                 3400.0           0              0          0   \n",
       "36982                 2648.0           0              0          0   \n",
       "\n",
       "       city_Agoura  city_Agoura Hills  city_Agua Dulce  city_Aguanga  \\\n",
       "68244            0                  0                0             0   \n",
       "27671            0                  0                0             0   \n",
       "11895            0                  0                0             0   \n",
       "60535            0                  0                0             0   \n",
       "36982            0                  0                0             0   \n",
       "\n",
       "       city_Ahwahnee  city_Alameda  ...  city_Yorba Linda  city_Yorkville  \\\n",
       "68244              0             0  ...                 0               0   \n",
       "27671              0             0  ...                 0               0   \n",
       "11895              0             0  ...                 0               0   \n",
       "60535              0             0  ...                 0               0   \n",
       "36982              0             0  ...                 0               0   \n",
       "\n",
       "       city_Yosemite West  city_Yountville  city_Yreka  city_Yuba City  \\\n",
       "68244                   0                0           0               0   \n",
       "27671                   0                0           0               0   \n",
       "11895                   0                0           0               0   \n",
       "60535                   0                0           0               0   \n",
       "36982                   0                0           0               0   \n",
       "\n",
       "       city_Yucaipa  city_Yucca Valley  city_Zamora  city_Zenia  \n",
       "68244             0                  0            0           0  \n",
       "27671             0                  0            0           0  \n",
       "11895             0                  0            0           0  \n",
       "60535             0                  0            0           0  \n",
       "36982             0                  0            0           0  \n",
       "\n",
       "[5 rows x 1254 columns]"
      ]
     },
     "execution_count": 3,
     "metadata": {},
     "output_type": "execute_result"
    }
   ],
   "source": [
    "features_train.head()"
   ]
  },
  {
   "cell_type": "code",
   "execution_count": 7,
   "metadata": {
    "id": "vd8za6bfFJBq"
   },
   "outputs": [],
   "source": [
    "def lasso(lam, features_train, features_test, labels_train, labels_test, r2s):\n",
    "  model = Lasso(alpha=lam)\n",
    "  model.fit(features_train, labels_train)\n",
    "  # print(f'Model Coefficients: {model.coef_}')\n",
    "  train_predictions = model.predict(features_train)\n",
    "  test_predictions = model.predict(features_test)\n",
    "\n",
    "  # Non-zero coefficients\n",
    "  print(len(list(filter(lambda x: x == 0, model.coef_))))\n",
    "\n",
    "  # Accuracy\n",
    "  r2 = r2_score(labels_test, test_predictions)\n",
    "  r2s.append(r2)\n",
    "  print(f'R squared- lambda = {lam}: {r2:.2f}')\n",
    "\n",
    "  mean_error = mean_absolute_error(labels_test, test_predictions)\n",
    "  print(f'Mean Absolute Error- lambda = {lam}: {mean_error:.2f}')\n",
    "\n",
    "  rmse = sqrt(mean_squared_error(labels_test, test_predictions))\n",
    "  print(f'Root Mean Squared Error- lambda = {lam}: {rmse:.2f}')\n",
    "\n",
    "  return r2s"
   ]
  },
  {
   "cell_type": "code",
   "execution_count": 8,
   "metadata": {
    "colab": {
     "base_uri": "https://localhost:8080/"
    },
    "id": "xuaIo_pxMMYZ",
    "outputId": "8230b5b7-d853-4f8c-9673-7b9f72ef2f42"
   },
   "outputs": [
    {
     "name": "stdout",
     "output_type": "stream",
     "text": [
      "72\n",
      "R squared- lambda = 0.1: 0.60\n",
      "Mean Absolute Error- lambda = 0.1: 187449.85\n",
      "Root Mean Squared Error- lambda = 0.1: 274650.39\n",
      "81\n",
      "R squared- lambda = 0.4: 0.60\n",
      "Mean Absolute Error- lambda = 0.4: 187410.80\n",
      "Root Mean Squared Error- lambda = 0.4: 274587.01\n",
      "84\n",
      "R squared- lambda = 0.5: 0.60\n",
      "Mean Absolute Error- lambda = 0.5: 187405.33\n",
      "Root Mean Squared Error- lambda = 0.5: 274570.80\n",
      "93\n",
      "R squared- lambda = 1: 0.61\n",
      "Mean Absolute Error- lambda = 1: 187383.22\n",
      "Root Mean Squared Error- lambda = 1: 274495.56\n",
      "108\n",
      "R squared- lambda = 1.5: 0.61\n",
      "Mean Absolute Error- lambda = 1.5: 187368.94\n",
      "Root Mean Squared Error- lambda = 1.5: 274424.80\n",
      "119\n",
      "R squared- lambda = 2: 0.61\n",
      "Mean Absolute Error- lambda = 2: 187364.68\n",
      "Root Mean Squared Error- lambda = 2: 274363.41\n",
      "127\n",
      "R squared- lambda = 2.5: 0.61\n",
      "Mean Absolute Error- lambda = 2.5: 187366.67\n",
      "Root Mean Squared Error- lambda = 2.5: 274311.62\n",
      "[0.6047698328139872, 0.6049522307595172, 0.6049988718116106, 0.6052153417940306, 0.6054188502587778, 0.6055953597664139, 0.6057442427040707]\n"
     ]
    }
   ],
   "source": [
    "# Calculate LASSO for each lambda\n",
    "r2s = []\n",
    "lambdas = [0.1, 0.4, 0.5, 1, 1.5, 2, 2.5]\n",
    "for lam in lambdas:\n",
    "  r2s = lasso(lam, features_train, features_test, labels_train, labels_test, r2s)\n",
    "\n",
    "print(r2s)"
   ]
  },
  {
   "cell_type": "code",
   "execution_count": 9,
   "metadata": {
    "colab": {
     "base_uri": "https://localhost:8080/",
     "height": 472
    },
    "id": "OexATX7vzZGp",
    "outputId": "a20e919d-065a-487c-ae0c-15b32322768a"
   },
   "outputs": [
    {
     "data": {
      "image/png": "[encoded data removed]",
      "text/plain": [
       "<Figure size 640x480 with 1 Axes>"
      ]
     },
     "metadata": {},
     "output_type": "display_data"
    }
   ],
   "source": [
    "import matplotlib.pyplot as plt\n",
    "plt.scatter(lambdas, r2s, label='Data', c='black')\n",
    "plt.plot(lambdas, r2s)\n",
    "plt.xlabel('Lambda')\n",
    "plt.ylabel('R-Squared')\n",
    "plt.title('R-Squared vs Lambda Value')\n",
    "plt.show()"
   ]
  },
  {
   "cell_type": "code",
   "execution_count": null,
   "metadata": {},
   "outputs": [],
   "source": []
  }
 ],
 "metadata": {
  "colab": {
   "provenance": []
  },
  "kernelspec": {
   "display_name": "Python 3 (ipykernel)",
   "language": "python",
   "name": "python3"
  },
  "language_info": {
   "codemirror_mode": {
    "name": "ipython",
    "version": 3
   },
   "file_extension": ".py",
   "mimetype": "text/x-python",
   "name": "python",
   "nbconvert_exporter": "python",
   "pygments_lexer": "ipython3",
   "version": "3.9.13"
  }
 },
 "nbformat": 4,
 "nbformat_minor": 1
}
