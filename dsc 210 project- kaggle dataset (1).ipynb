{
 "cells": [
  {
   "cell_type": "markdown",
   "id": "ba672cf8",
   "metadata": {},
   "source": [
    "## Housing Prices in California (for sale)"
   ]
  },
  {
   "cell_type": "code",
   "execution_count": 14,
   "id": "b5f6d8a1",
   "metadata": {
    "scrolled": true
   },
   "outputs": [],
   "source": [
    "import pandas as pd\n",
    "from sklearn.model_selection import train_test_split\n",
    "from sklearn.metrics import mean_squared_error\n",
    "from sklearn.linear_model import LinearRegression"
   ]
  },
  {
   "cell_type": "code",
   "execution_count": 15,
   "id": "4e4442f8",
   "metadata": {
    "scrolled": true
   },
   "outputs": [
    {
     "data": {
      "text/html": [
       "<div>\n",
       "<style scoped>\n",
       "    .dataframe tbody tr th:only-of-type {\n",
       "        vertical-align: middle;\n",
       "    }\n",
       "\n",
       "    .dataframe tbody tr th {\n",
       "        vertical-align: top;\n",
       "    }\n",
       "\n",
       "    .dataframe thead th {\n",
       "        text-align: right;\n",
       "    }\n",
       "</style>\n",
       "<table border=\"1\" class=\"dataframe\">\n",
       "  <thead>\n",
       "    <tr style=\"text-align: right;\">\n",
       "      <th></th>\n",
       "      <th>brokered_by</th>\n",
       "      <th>status</th>\n",
       "      <th>price</th>\n",
       "      <th>bed</th>\n",
       "      <th>bath</th>\n",
       "      <th>acre_lot</th>\n",
       "      <th>street</th>\n",
       "      <th>city</th>\n",
       "      <th>state</th>\n",
       "      <th>zip_code</th>\n",
       "      <th>house_size</th>\n",
       "      <th>prev_sold_date</th>\n",
       "    </tr>\n",
       "  </thead>\n",
       "  <tbody>\n",
       "    <tr>\n",
       "      <th>0</th>\n",
       "      <td>103378.0</td>\n",
       "      <td>for_sale</td>\n",
       "      <td>105000.0</td>\n",
       "      <td>3.0</td>\n",
       "      <td>2.0</td>\n",
       "      <td>0.12</td>\n",
       "      <td>1962661.0</td>\n",
       "      <td>Adjuntas</td>\n",
       "      <td>Puerto Rico</td>\n",
       "      <td>601.0</td>\n",
       "      <td>920.0</td>\n",
       "      <td>NaN</td>\n",
       "    </tr>\n",
       "    <tr>\n",
       "      <th>1</th>\n",
       "      <td>52707.0</td>\n",
       "      <td>for_sale</td>\n",
       "      <td>80000.0</td>\n",
       "      <td>4.0</td>\n",
       "      <td>2.0</td>\n",
       "      <td>0.08</td>\n",
       "      <td>1902874.0</td>\n",
       "      <td>Adjuntas</td>\n",
       "      <td>Puerto Rico</td>\n",
       "      <td>601.0</td>\n",
       "      <td>1527.0</td>\n",
       "      <td>NaN</td>\n",
       "    </tr>\n",
       "    <tr>\n",
       "      <th>2</th>\n",
       "      <td>103379.0</td>\n",
       "      <td>for_sale</td>\n",
       "      <td>67000.0</td>\n",
       "      <td>2.0</td>\n",
       "      <td>1.0</td>\n",
       "      <td>0.15</td>\n",
       "      <td>1404990.0</td>\n",
       "      <td>Juana Diaz</td>\n",
       "      <td>Puerto Rico</td>\n",
       "      <td>795.0</td>\n",
       "      <td>748.0</td>\n",
       "      <td>NaN</td>\n",
       "    </tr>\n",
       "    <tr>\n",
       "      <th>3</th>\n",
       "      <td>31239.0</td>\n",
       "      <td>for_sale</td>\n",
       "      <td>145000.0</td>\n",
       "      <td>4.0</td>\n",
       "      <td>2.0</td>\n",
       "      <td>0.10</td>\n",
       "      <td>1947675.0</td>\n",
       "      <td>Ponce</td>\n",
       "      <td>Puerto Rico</td>\n",
       "      <td>731.0</td>\n",
       "      <td>1800.0</td>\n",
       "      <td>NaN</td>\n",
       "    </tr>\n",
       "    <tr>\n",
       "      <th>4</th>\n",
       "      <td>34632.0</td>\n",
       "      <td>for_sale</td>\n",
       "      <td>65000.0</td>\n",
       "      <td>6.0</td>\n",
       "      <td>2.0</td>\n",
       "      <td>0.05</td>\n",
       "      <td>331151.0</td>\n",
       "      <td>Mayaguez</td>\n",
       "      <td>Puerto Rico</td>\n",
       "      <td>680.0</td>\n",
       "      <td>NaN</td>\n",
       "      <td>NaN</td>\n",
       "    </tr>\n",
       "  </tbody>\n",
       "</table>\n",
       "</div>"
      ],
      "text/plain": [
       "   brokered_by    status     price  bed  bath  acre_lot     street  \\\n",
       "0     103378.0  for_sale  105000.0  3.0   2.0      0.12  1962661.0   \n",
       "1      52707.0  for_sale   80000.0  4.0   2.0      0.08  1902874.0   \n",
       "2     103379.0  for_sale   67000.0  2.0   1.0      0.15  1404990.0   \n",
       "3      31239.0  for_sale  145000.0  4.0   2.0      0.10  1947675.0   \n",
       "4      34632.0  for_sale   65000.0  6.0   2.0      0.05   331151.0   \n",
       "\n",
       "         city        state  zip_code  house_size prev_sold_date  \n",
       "0    Adjuntas  Puerto Rico     601.0       920.0            NaN  \n",
       "1    Adjuntas  Puerto Rico     601.0      1527.0            NaN  \n",
       "2  Juana Diaz  Puerto Rico     795.0       748.0            NaN  \n",
       "3       Ponce  Puerto Rico     731.0      1800.0            NaN  \n",
       "4    Mayaguez  Puerto Rico     680.0         NaN            NaN  "
      ]
     },
     "execution_count": 15,
     "metadata": {},
     "output_type": "execute_result"
    }
   ],
   "source": [
    "# Read in the data- US Housing Prices\n",
    "data = pd.read_csv('housing_prices_us.csv')\n",
    "data.head()"
   ]
  },
  {
   "cell_type": "code",
   "execution_count": 16,
   "id": "8044733b",
   "metadata": {},
   "outputs": [
    {
     "data": {
      "text/plain": [
       "101034"
      ]
     },
     "execution_count": 16,
     "metadata": {},
     "output_type": "execute_result"
    }
   ],
   "source": [
    "# Filter the data\n",
    "data = data[(data['state'] == 'California') & (data['status'] == 'for_sale')]\n",
    "len(data)"
   ]
  },
  {
   "cell_type": "code",
   "execution_count": 17,
   "id": "999277dd",
   "metadata": {},
   "outputs": [],
   "source": [
    "# Clean the data\n",
    "# Zipcode is not null or zero\n",
    "data = data[(data['zip_code'].isna() == False) & (data['zip_code'] != 0.0)]\n",
    "data['zip_code'] = data['zip_code'].astype(int).astype(str)\n",
    "\n",
    "# Status as string\n",
    "data['status'] = data['status'].astype(str)\n",
    "data['city'] = data['city'].astype(str)\n",
    "data['bed'] = data['bed'].fillna(0).astype(int)\n",
    "data['bath'] = data['bath'].fillna(0).astype(int)\n",
    "data['price'] = data['price'].fillna(0).astype(int)\n",
    "data['house_size'] = data['house_size'].fillna(0).astype(int)\n",
    "data['zip_code'] = data['zip_code'].astype(str)\n",
    "# Filter out where bed and bath are zero\n",
    "data = data[(data['bed'] != 0) & (data['bath'] != 0) & (data['price'] != 0) & (data['house_size'] != 0)]\n"
   ]
  },
  {
   "cell_type": "code",
   "execution_count": 18,
   "id": "99517194",
   "metadata": {},
   "outputs": [
    {
     "data": {
      "text/plain": [
       "brokered_by       float64\n",
       "status             object\n",
       "price               int32\n",
       "bed                 int32\n",
       "bath                int32\n",
       "acre_lot          float64\n",
       "street            float64\n",
       "city               object\n",
       "state              object\n",
       "zip_code           object\n",
       "house_size          int32\n",
       "prev_sold_date     object\n",
       "dtype: object"
      ]
     },
     "execution_count": 18,
     "metadata": {},
     "output_type": "execute_result"
    }
   ],
   "source": [
    "# Ensure data types\n",
    "data.dtypes"
   ]
  },
  {
   "cell_type": "code",
   "execution_count": 19,
   "id": "d39f800d",
   "metadata": {},
   "outputs": [
    {
     "data": {
      "text/plain": [
       "Index(['brokered_by', 'status', 'price', 'bed', 'bath', 'acre_lot', 'street',\n",
       "       'city', 'state', 'zip_code', 'house_size', 'prev_sold_date'],\n",
       "      dtype='object')"
      ]
     },
     "execution_count": 19,
     "metadata": {},
     "output_type": "execute_result"
    }
   ],
   "source": [
    "# Explore the data- important features\n",
    "data.columns\n",
    "# Likely important features- house size bed, bath, city, zip_code"
   ]
  },
  {
   "cell_type": "code",
   "execution_count": 20,
   "id": "b2584684",
   "metadata": {},
   "outputs": [
    {
     "data": {
      "text/html": [
       "<div>\n",
       "<style scoped>\n",
       "    .dataframe tbody tr th:only-of-type {\n",
       "        vertical-align: middle;\n",
       "    }\n",
       "\n",
       "    .dataframe tbody tr th {\n",
       "        vertical-align: top;\n",
       "    }\n",
       "\n",
       "    .dataframe thead th {\n",
       "        text-align: right;\n",
       "    }\n",
       "</style>\n",
       "<table border=\"1\" class=\"dataframe\">\n",
       "  <thead>\n",
       "    <tr style=\"text-align: right;\">\n",
       "      <th></th>\n",
       "      <th>brokered_by</th>\n",
       "      <th>status</th>\n",
       "      <th>price</th>\n",
       "      <th>bed</th>\n",
       "      <th>bath</th>\n",
       "      <th>acre_lot</th>\n",
       "      <th>street</th>\n",
       "      <th>city</th>\n",
       "      <th>state</th>\n",
       "      <th>zip_code</th>\n",
       "      <th>house_size</th>\n",
       "      <th>prev_sold_date</th>\n",
       "    </tr>\n",
       "  </thead>\n",
       "  <tbody>\n",
       "    <tr>\n",
       "      <th>1208977</th>\n",
       "      <td>4311.0</td>\n",
       "      <td>for_sale</td>\n",
       "      <td>199900</td>\n",
       "      <td>3</td>\n",
       "      <td>1</td>\n",
       "      <td>0.18</td>\n",
       "      <td>1466188.0</td>\n",
       "      <td>Blythe</td>\n",
       "      <td>California</td>\n",
       "      <td>92225</td>\n",
       "      <td>1014</td>\n",
       "      <td>NaN</td>\n",
       "    </tr>\n",
       "    <tr>\n",
       "      <th>1208998</th>\n",
       "      <td>4311.0</td>\n",
       "      <td>for_sale</td>\n",
       "      <td>172999</td>\n",
       "      <td>3</td>\n",
       "      <td>2</td>\n",
       "      <td>0.16</td>\n",
       "      <td>987585.0</td>\n",
       "      <td>Blythe</td>\n",
       "      <td>California</td>\n",
       "      <td>92225</td>\n",
       "      <td>1132</td>\n",
       "      <td>1984-06-29</td>\n",
       "    </tr>\n",
       "    <tr>\n",
       "      <th>1209109</th>\n",
       "      <td>64877.0</td>\n",
       "      <td>for_sale</td>\n",
       "      <td>79900</td>\n",
       "      <td>4</td>\n",
       "      <td>2</td>\n",
       "      <td>0.16</td>\n",
       "      <td>1533451.0</td>\n",
       "      <td>Blythe</td>\n",
       "      <td>California</td>\n",
       "      <td>92225</td>\n",
       "      <td>1272</td>\n",
       "      <td>NaN</td>\n",
       "    </tr>\n",
       "    <tr>\n",
       "      <th>1209110</th>\n",
       "      <td>54422.0</td>\n",
       "      <td>for_sale</td>\n",
       "      <td>69000</td>\n",
       "      <td>3</td>\n",
       "      <td>1</td>\n",
       "      <td>0.91</td>\n",
       "      <td>1626662.0</td>\n",
       "      <td>Blythe</td>\n",
       "      <td>California</td>\n",
       "      <td>92225</td>\n",
       "      <td>1134</td>\n",
       "      <td>NaN</td>\n",
       "    </tr>\n",
       "    <tr>\n",
       "      <th>1209111</th>\n",
       "      <td>109780.0</td>\n",
       "      <td>for_sale</td>\n",
       "      <td>75000</td>\n",
       "      <td>3</td>\n",
       "      <td>2</td>\n",
       "      <td>0.33</td>\n",
       "      <td>540514.0</td>\n",
       "      <td>Blythe</td>\n",
       "      <td>California</td>\n",
       "      <td>92225</td>\n",
       "      <td>1248</td>\n",
       "      <td>NaN</td>\n",
       "    </tr>\n",
       "  </tbody>\n",
       "</table>\n",
       "</div>"
      ],
      "text/plain": [
       "         brokered_by    status   price  bed  bath  acre_lot     street  \\\n",
       "1208977       4311.0  for_sale  199900    3     1      0.18  1466188.0   \n",
       "1208998       4311.0  for_sale  172999    3     2      0.16   987585.0   \n",
       "1209109      64877.0  for_sale   79900    4     2      0.16  1533451.0   \n",
       "1209110      54422.0  for_sale   69000    3     1      0.91  1626662.0   \n",
       "1209111     109780.0  for_sale   75000    3     2      0.33   540514.0   \n",
       "\n",
       "           city       state zip_code  house_size prev_sold_date  \n",
       "1208977  Blythe  California    92225        1014            NaN  \n",
       "1208998  Blythe  California    92225        1132     1984-06-29  \n",
       "1209109  Blythe  California    92225        1272            NaN  \n",
       "1209110  Blythe  California    92225        1134            NaN  \n",
       "1209111  Blythe  California    92225        1248            NaN  "
      ]
     },
     "execution_count": 20,
     "metadata": {},
     "output_type": "execute_result"
    }
   ],
   "source": [
    "data.head()"
   ]
  },
  {
   "cell_type": "code",
   "execution_count": 21,
   "id": "0430f01b",
   "metadata": {},
   "outputs": [],
   "source": [
    "# Linear regression model- human chosen features\n",
    "# Create subset of relevant columns\n",
    "subset = data[['price', 'bed', 'bath', 'acre_lot', 'city', 'zip_code', 'house_size']]\n",
    "subset = subset.dropna()\n",
    "# Turn city into dummy variable\n",
    "features = subset.loc[:, subset.columns != 'price']\n",
    "features = pd.get_dummies(features, columns=['city', 'zip_code'])\n",
    "labels = subset['price']"
   ]
  },
  {
   "cell_type": "code",
   "execution_count": 22,
   "id": "184f657d",
   "metadata": {},
   "outputs": [],
   "source": [
    "features_train, features_test, labels_train, labels_test = \\\n",
    "    train_test_split(features, labels, test_size=0.2)\n",
    "\n",
    "model = LinearRegression()"
   ]
  },
  {
   "cell_type": "code",
   "execution_count": null,
   "id": "4bd04ad3",
   "metadata": {},
   "outputs": [],
   "source": [
    "model.fit(features_train, labels_train)"
   ]
  },
  {
   "cell_type": "code",
   "execution_count": null,
   "id": "bf6336c4",
   "metadata": {},
   "outputs": [],
   "source": [
    "print(model.coef_)"
   ]
  },
  {
   "cell_type": "code",
   "execution_count": null,
   "id": "dea8ba06",
   "metadata": {},
   "outputs": [],
   "source": [
    "train_predictions = model.predict(features_train)\n",
    "test_predictions = model.predict(features_test)"
   ]
  },
  {
   "cell_type": "code",
   "execution_count": null,
   "id": "79e688ee",
   "metadata": {},
   "outputs": [],
   "source": [
    "# Testing\n",
    "train_acc = mean_squared_error(labels_train, train_predictions)\n",
    "test_acc = mean_squared_error(labels_test, test_predictions)\n",
    "print(test_acc)"
   ]
  },
  {
   "cell_type": "code",
   "execution_count": null,
   "id": "805f3848",
   "metadata": {},
   "outputs": [],
   "source": [
    "# Linear regression model- model chosen features\n",
    "## Improving our model but using GridSearchCV to find the best hyperparameters\n",
    "# from sklearn import svm, datasets\n",
    "# from sklearn.model_selection import GridSearchCV\n",
    "# hyperparameters = {'min_samples_leaf': [1, 10, 50, 100, 200, 300], 'max_depth': [1, 2, 3, 4, 5, 6, 7, 8, 9, 10, 11, 12, 13, 14, 15, 20]}\n",
    "# clf = DecisionTreeClassifier()\n",
    "# search = GridSearchCV(clf, hyperparameters, cv = 6, return_train_score = True)\n",
    "# search.fit(train_data[features], train_data[target])\n",
    "# params = search.best_params_\n",
    "# best_depth = params['max_depth']\n",
    "# print(best_depth)"
   ]
  },
  {
   "cell_type": "code",
   "execution_count": null,
   "id": "38b7fbb3",
   "metadata": {},
   "outputs": [],
   "source": [
    "# Testing"
   ]
  },
  {
   "cell_type": "code",
   "execution_count": null,
   "id": "0e69e5ce",
   "metadata": {},
   "outputs": [],
   "source": [
    "# LIME- further explain feature relevance"
   ]
  },
  {
   "cell_type": "code",
   "execution_count": null,
   "id": "491f36ca",
   "metadata": {},
   "outputs": [],
   "source": [
    "# Add visualizations"
   ]
  }
 ],
 "metadata": {
  "kernelspec": {
   "display_name": "Python 3 (ipykernel)",
   "language": "python",
   "name": "python3"
  },
  "language_info": {
   "codemirror_mode": {
    "name": "ipython",
    "version": 3
   },
   "file_extension": ".py",
   "mimetype": "text/x-python",
   "name": "python",
   "nbconvert_exporter": "python",
   "pygments_lexer": "ipython3",
   "version": "3.9.13"
  }
 },
 "nbformat": 4,
 "nbformat_minor": 5
}
