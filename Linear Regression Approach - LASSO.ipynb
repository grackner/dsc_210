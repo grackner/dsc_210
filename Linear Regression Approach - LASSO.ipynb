{
 "cells": [
  {
   "cell_type": "markdown",
   "id": "ba672cf8",
   "metadata": {},
   "source": [
    "## Predicting California Home Prices- LASSO"
   ]
  },
  {
   "cell_type": "code",
   "execution_count": 1,
   "id": "b5f6d8a1",
   "metadata": {
    "scrolled": true
   },
   "outputs": [
    {
     "name": "stderr",
     "output_type": "stream",
     "text": [
      "/opt/conda/lib/python3.9/site-packages/scipy/__init__.py:146: UserWarning: A NumPy version >=1.16.5 and <1.23.0 is required for this version of SciPy (detected version 1.26.4\n",
      "  warnings.warn(f\"A NumPy version >={np_minversion} and <{np_maxversion}\"\n"
     ]
    }
   ],
   "source": [
    "import pandas as pd\n",
    "from sklearn.model_selection import train_test_split\n",
    "from sklearn.metrics import mean_squared_error, mean_absolute_error\n",
    "from sklearn.linear_model import LinearRegression\n",
    "import warnings\n",
    "warnings.filterwarnings('ignore')"
   ]
  },
  {
   "cell_type": "code",
   "execution_count": 2,
   "id": "4e4442f8",
   "metadata": {
    "scrolled": true
   },
   "outputs": [],
   "source": [
    "# Read in training and test data\n",
    "features_train = pd.read_csv('X_train.csv', index_col = 0)\n",
    "features_test = pd.read_csv('X_test.csv', index_col = 0)\n",
    "labels_train = pd.read_csv('y_train.csv', index_col = 0).squeeze()\n",
    "labels_test = pd.read_csv('y_test.csv', index_col = 0).squeeze()"
   ]
  },
  {
   "cell_type": "code",
   "execution_count": 3,
   "id": "4758f8ca",
   "metadata": {
    "scrolled": true
   },
   "outputs": [
    {
     "data": {
      "text/html": [
       "<div>\n",
       "<style scoped>\n",
       "    .dataframe tbody tr th:only-of-type {\n",
       "        vertical-align: middle;\n",
       "    }\n",
       "\n",
       "    .dataframe tbody tr th {\n",
       "        vertical-align: top;\n",
       "    }\n",
       "\n",
       "    .dataframe thead th {\n",
       "        text-align: right;\n",
       "    }\n",
       "</style>\n",
       "<table border=\"1\" class=\"dataframe\">\n",
       "  <thead>\n",
       "    <tr style=\"text-align: right;\">\n",
       "      <th></th>\n",
       "      <th>size_bath_interaction</th>\n",
       "      <th>city_Acton</th>\n",
       "      <th>city_Adelanto</th>\n",
       "      <th>city_Adin</th>\n",
       "      <th>city_Agoura</th>\n",
       "      <th>city_Agoura Hills</th>\n",
       "      <th>city_Agua Dulce</th>\n",
       "      <th>city_Aguanga</th>\n",
       "      <th>city_Ahwahnee</th>\n",
       "      <th>city_Alameda</th>\n",
       "      <th>...</th>\n",
       "      <th>city_Yorba Linda</th>\n",
       "      <th>city_Yorkville</th>\n",
       "      <th>city_Yosemite West</th>\n",
       "      <th>city_Yountville</th>\n",
       "      <th>city_Yreka</th>\n",
       "      <th>city_Yuba City</th>\n",
       "      <th>city_Yucaipa</th>\n",
       "      <th>city_Yucca Valley</th>\n",
       "      <th>city_Zamora</th>\n",
       "      <th>city_Zenia</th>\n",
       "    </tr>\n",
       "  </thead>\n",
       "  <tbody>\n",
       "    <tr>\n",
       "      <th>68244</th>\n",
       "      <td>3364.0</td>\n",
       "      <td>0</td>\n",
       "      <td>0</td>\n",
       "      <td>0</td>\n",
       "      <td>0</td>\n",
       "      <td>0</td>\n",
       "      <td>0</td>\n",
       "      <td>0</td>\n",
       "      <td>0</td>\n",
       "      <td>0</td>\n",
       "      <td>...</td>\n",
       "      <td>0</td>\n",
       "      <td>0</td>\n",
       "      <td>0</td>\n",
       "      <td>0</td>\n",
       "      <td>0</td>\n",
       "      <td>0</td>\n",
       "      <td>0</td>\n",
       "      <td>0</td>\n",
       "      <td>0</td>\n",
       "      <td>0</td>\n",
       "    </tr>\n",
       "    <tr>\n",
       "      <th>27671</th>\n",
       "      <td>8907.0</td>\n",
       "      <td>0</td>\n",
       "      <td>0</td>\n",
       "      <td>0</td>\n",
       "      <td>0</td>\n",
       "      <td>0</td>\n",
       "      <td>0</td>\n",
       "      <td>0</td>\n",
       "      <td>0</td>\n",
       "      <td>0</td>\n",
       "      <td>...</td>\n",
       "      <td>0</td>\n",
       "      <td>0</td>\n",
       "      <td>0</td>\n",
       "      <td>0</td>\n",
       "      <td>0</td>\n",
       "      <td>0</td>\n",
       "      <td>0</td>\n",
       "      <td>0</td>\n",
       "      <td>0</td>\n",
       "      <td>0</td>\n",
       "    </tr>\n",
       "    <tr>\n",
       "      <th>11895</th>\n",
       "      <td>6699.0</td>\n",
       "      <td>0</td>\n",
       "      <td>0</td>\n",
       "      <td>0</td>\n",
       "      <td>0</td>\n",
       "      <td>0</td>\n",
       "      <td>0</td>\n",
       "      <td>0</td>\n",
       "      <td>0</td>\n",
       "      <td>0</td>\n",
       "      <td>...</td>\n",
       "      <td>0</td>\n",
       "      <td>0</td>\n",
       "      <td>0</td>\n",
       "      <td>0</td>\n",
       "      <td>0</td>\n",
       "      <td>0</td>\n",
       "      <td>0</td>\n",
       "      <td>0</td>\n",
       "      <td>0</td>\n",
       "      <td>0</td>\n",
       "    </tr>\n",
       "    <tr>\n",
       "      <th>60535</th>\n",
       "      <td>3400.0</td>\n",
       "      <td>0</td>\n",
       "      <td>0</td>\n",
       "      <td>0</td>\n",
       "      <td>0</td>\n",
       "      <td>0</td>\n",
       "      <td>0</td>\n",
       "      <td>0</td>\n",
       "      <td>0</td>\n",
       "      <td>0</td>\n",
       "      <td>...</td>\n",
       "      <td>0</td>\n",
       "      <td>0</td>\n",
       "      <td>0</td>\n",
       "      <td>0</td>\n",
       "      <td>0</td>\n",
       "      <td>0</td>\n",
       "      <td>0</td>\n",
       "      <td>0</td>\n",
       "      <td>0</td>\n",
       "      <td>0</td>\n",
       "    </tr>\n",
       "    <tr>\n",
       "      <th>36982</th>\n",
       "      <td>2648.0</td>\n",
       "      <td>0</td>\n",
       "      <td>0</td>\n",
       "      <td>0</td>\n",
       "      <td>0</td>\n",
       "      <td>0</td>\n",
       "      <td>0</td>\n",
       "      <td>0</td>\n",
       "      <td>0</td>\n",
       "      <td>0</td>\n",
       "      <td>...</td>\n",
       "      <td>0</td>\n",
       "      <td>0</td>\n",
       "      <td>0</td>\n",
       "      <td>0</td>\n",
       "      <td>0</td>\n",
       "      <td>0</td>\n",
       "      <td>0</td>\n",
       "      <td>0</td>\n",
       "      <td>0</td>\n",
       "      <td>0</td>\n",
       "    </tr>\n",
       "  </tbody>\n",
       "</table>\n",
       "<p>5 rows × 1254 columns</p>\n",
       "</div>"
      ],
      "text/plain": [
       "       size_bath_interaction  city_Acton  city_Adelanto  city_Adin  \\\n",
       "68244                 3364.0           0              0          0   \n",
       "27671                 8907.0           0              0          0   \n",
       "11895                 6699.0           0              0          0   \n",
       "60535                 3400.0           0              0          0   \n",
       "36982                 2648.0           0              0          0   \n",
       "\n",
       "       city_Agoura  city_Agoura Hills  city_Agua Dulce  city_Aguanga  \\\n",
       "68244            0                  0                0             0   \n",
       "27671            0                  0                0             0   \n",
       "11895            0                  0                0             0   \n",
       "60535            0                  0                0             0   \n",
       "36982            0                  0                0             0   \n",
       "\n",
       "       city_Ahwahnee  city_Alameda  ...  city_Yorba Linda  city_Yorkville  \\\n",
       "68244              0             0  ...                 0               0   \n",
       "27671              0             0  ...                 0               0   \n",
       "11895              0             0  ...                 0               0   \n",
       "60535              0             0  ...                 0               0   \n",
       "36982              0             0  ...                 0               0   \n",
       "\n",
       "       city_Yosemite West  city_Yountville  city_Yreka  city_Yuba City  \\\n",
       "68244                   0                0           0               0   \n",
       "27671                   0                0           0               0   \n",
       "11895                   0                0           0               0   \n",
       "60535                   0                0           0               0   \n",
       "36982                   0                0           0               0   \n",
       "\n",
       "       city_Yucaipa  city_Yucca Valley  city_Zamora  city_Zenia  \n",
       "68244             0                  0            0           0  \n",
       "27671             0                  0            0           0  \n",
       "11895             0                  0            0           0  \n",
       "60535             0                  0            0           0  \n",
       "36982             0                  0            0           0  \n",
       "\n",
       "[5 rows x 1254 columns]"
      ]
     },
     "execution_count": 3,
     "metadata": {},
     "output_type": "execute_result"
    }
   ],
   "source": [
    "# View features\n",
    "features_train.head()"
   ]
  },
  {
   "cell_type": "code",
   "execution_count": 4,
   "id": "99517194",
   "metadata": {},
   "outputs": [
    {
     "data": {
      "text/plain": [
       "size_bath_interaction    float64\n",
       "city_Acton                 int64\n",
       "city_Adelanto              int64\n",
       "city_Adin                  int64\n",
       "city_Agoura                int64\n",
       "                          ...   \n",
       "city_Yuba City             int64\n",
       "city_Yucaipa               int64\n",
       "city_Yucca Valley          int64\n",
       "city_Zamora                int64\n",
       "city_Zenia                 int64\n",
       "Length: 1254, dtype: object"
      ]
     },
     "execution_count": 4,
     "metadata": {},
     "output_type": "execute_result"
    }
   ],
   "source": [
    "# Ensure Feature Data Types\n",
    "features_train.dtypes"
   ]
  },
  {
   "cell_type": "code",
   "execution_count": 5,
   "id": "0430f01b",
   "metadata": {},
   "outputs": [],
   "source": [
    "# LASSO model\n",
    "from sklearn.linear_model import Lasso\n",
    "model = Lasso(alpha=1.5)"
   ]
  },
  {
   "cell_type": "code",
   "execution_count": null,
   "id": "4bd04ad3",
   "metadata": {},
   "outputs": [],
   "source": [
    "model.fit(features_train, labels_train)"
   ]
  },
  {
   "cell_type": "code",
   "execution_count": null,
   "id": "bf6336c4",
   "metadata": {},
   "outputs": [],
   "source": [
    "print(model.coef_)"
   ]
  },
  {
   "cell_type": "code",
   "execution_count": null,
   "id": "dea8ba06",
   "metadata": {},
   "outputs": [],
   "source": [
    "train_predictions = model.predict(features_train)\n",
    "test_predictions = model.predict(features_test)"
   ]
  },
  {
   "cell_type": "code",
   "execution_count": null,
   "id": "e92644b8",
   "metadata": {},
   "outputs": [],
   "source": [
    "# Accuracy\n",
    "r2 = r2_score(labels_test, test_predictions)\n",
    "print(f'The R squared of basic Linear Regression: {r2:.2f}')\n",
    "\n",
    "mean_error = mean_absolute_error(labels_test, test_predictions)\n",
    "print(f'The Mean Absolute Error of basic Linear Regression: {mean_error:.2f}')\n",
    "\n",
    "rmse = sqrt(mean_squared_error(labels_test, test_predictions))\n",
    "print(f'The Root Mean Squared Error of basic Linear Regression: {rmse:.2f}')"
   ]
  },
  {
   "cell_type": "code",
   "execution_count": null,
   "id": "330a15c3",
   "metadata": {},
   "outputs": [],
   "source": [
    "# Function to train LASSO with different level of lambda"
   ]
  }
 ],
 "metadata": {
  "kernelspec": {
   "display_name": "Python 3 (ipykernel)",
   "language": "python",
   "name": "python3"
  },
  "language_info": {
   "codemirror_mode": {
    "name": "ipython",
    "version": 3
   },
   "file_extension": ".py",
   "mimetype": "text/x-python",
   "name": "python",
   "nbconvert_exporter": "python",
   "pygments_lexer": "ipython3",
   "version": "3.9.5"
  }
 },
 "nbformat": 4,
 "nbformat_minor": 5
}
