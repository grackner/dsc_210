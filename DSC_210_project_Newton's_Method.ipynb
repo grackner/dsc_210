{
  "cells": [
    {
      "cell_type": "code",
      "execution_count": 1,
      "metadata": {
        "id": "z8bKTOQhj2hP"
      },
      "outputs": [],
      "source": [
        "import numpy as np\n",
        "import pandas as pd\n",
        "import matplotlib.pyplot as plt\n",
        "from sklearn.metrics import mean_absolute_error, mean_squared_error, r2_score\n",
        "from sklearn.model_selection import train_test_split\n",
        "from sklearn.linear_model import LinearRegression\n",
        "from sklearn.preprocessing import StandardScaler\n",
        "import sympy"
      ]
    },
    {
      "cell_type": "markdown",
      "metadata": {
        "id": "PtUQWS7Dyreo"
      },
      "source": [
        "## Ridge Regression Using Newton's Method"
      ]
    },
    {
      "cell_type": "code",
      "execution_count": 2,
      "metadata": {
        "id": "5D-CIqz_ydQ7"
      },
      "outputs": [],
      "source": [
        "# Newton's method for ridge regression\n",
        "def ridge_regression_newton(X, y, lambda_, max_iter=10, tol=1e-6):\n",
        "\n",
        "    #Initializations\n",
        "    n_features = X.shape[1]\n",
        "    beta = np.zeros(n_features)\n",
        "    convergence = []\n",
        "    r2_scores = []\n",
        "    mae_scores = []\n",
        "    rmse_scores = []\n",
        "\n",
        "    for iteration in range(max_iter):\n",
        "        # Calculate predictions\n",
        "        predictions = X @ beta\n",
        "\n",
        "        # Compute residuals\n",
        "        residuals = y - predictions\n",
        "\n",
        "        # Compute gradient\n",
        "        gradient = -X.T @ residuals + lambda_ * beta\n",
        "\n",
        "        # Compute Hessian\n",
        "        hessian = X.T @ X + lambda_ * np.eye(n_features)\n",
        "\n",
        "        # Update beta using Newton's method\n",
        "        beta_update = np.linalg.solve(hessian, gradient) #beta_update = np.linalg.pinv(hessian) @ gradient\n",
        "        beta -= beta_update\n",
        "\n",
        "        # Track convergence\n",
        "        grad_norm = np.linalg.norm(beta_update, ord=2)\n",
        "        convergence.append(grad_norm)\n",
        "\n",
        "        # Track metrics\n",
        "        r2_scores.append(r2_score(y, predictions))\n",
        "        mae_scores.append(mean_absolute_error(y, predictions))\n",
        "        rmse_scores.append(np.sqrt(mean_squared_error(y, predictions)))\n",
        "\n",
        "        # Check for convergence\n",
        "        if grad_norm < tol:\n",
        "            print(f\"Converged in {iteration} iterations.\")\n",
        "            break\n",
        "    else:\n",
        "        print(\"Newton's Method did not converge within the maximum number of iterations.\")\n",
        "\n",
        "    return beta, convergence, r2_scores, mae_scores, rmse_scores"
      ]
    },
    {
      "cell_type": "code",
      "execution_count": 3,
      "metadata": {
        "id": "TsBYmGxJziah"
      },
      "outputs": [],
      "source": [
        "# Closed form solution for ridge regression\n",
        "def ridge_regression_closed_form(X, y, lambda_):\n",
        "    n_features = X.shape[1]\n",
        "    I = np.eye(n_features)\n",
        "    return np.linalg.inv(X.T @ X + lambda_ * I) @ X.T @ y"
      ]
    },
    {
      "cell_type": "markdown",
      "metadata": {
        "id": "SGo7qScHz3SI"
      },
      "source": [
        "## Reading Cleaned Data"
      ]
    },
    {
      "cell_type": "code",
      "execution_count": 4,
      "metadata": {
        "colab": {
          "base_uri": "https://localhost:8080/"
        },
        "id": "GdlgHeV2LoZ9",
        "outputId": "bd74309a-1792-4de0-9a34-523643839b9b"
      },
      "outputs": [
        {
          "output_type": "stream",
          "name": "stdout",
          "text": [
            "Drive already mounted at /content/drive; to attempt to forcibly remount, call drive.mount(\"/content/drive\", force_remount=True).\n"
          ]
        }
      ],
      "source": [
        "from google.colab import drive\n",
        "drive.mount('/content/drive')"
      ]
    },
    {
      "cell_type": "code",
      "execution_count": 5,
      "metadata": {
        "id": "B3IolaGvz5YS"
      },
      "outputs": [],
      "source": [
        "# Read in cleaned data\n",
        "features_train_new = pd.read_csv('/content/drive/MyDrive/X_train.csv')\n",
        "features_test_new = pd.read_csv('/content/drive/MyDrive/X_test.csv')\n",
        "labels_train_new = pd.read_csv('/content/drive/MyDrive/y_train.csv')\n",
        "labels_test_new = pd.read_csv('/content/drive/MyDrive/y_test.csv')"
      ]
    },
    {
      "cell_type": "code",
      "execution_count": 6,
      "metadata": {
        "id": "mGVgEYM-1b46"
      },
      "outputs": [],
      "source": [
        "# Drop unnecessary columns\n",
        "features_train_new.drop(columns=['Unnamed: 0'], inplace=True)\n",
        "features_test_new.drop(columns=['Unnamed: 0'], inplace=True)\n",
        "labels_train_new = labels_train_new.drop(columns=['Unnamed: 0'])\n",
        "labels_test_new = labels_test_new.drop(columns=['Unnamed: 0'])"
      ]
    },
    {
      "cell_type": "code",
      "source": [
        "# Shape of features matrix\n",
        "np.shape(features_train_new)"
      ],
      "metadata": {
        "colab": {
          "base_uri": "https://localhost:8080/"
        },
        "id": "TSXkEmTCvvTd",
        "outputId": "e438b1fd-d8ab-4160-b188-708772ebba2e"
      },
      "execution_count": 7,
      "outputs": [
        {
          "output_type": "execute_result",
          "data": {
            "text/plain": [
              "(41331, 1254)"
            ]
          },
          "metadata": {},
          "execution_count": 7
        }
      ]
    },
    {
      "cell_type": "code",
      "execution_count": 8,
      "metadata": {
        "colab": {
          "base_uri": "https://localhost:8080/"
        },
        "id": "wJnpoQoj1oPm",
        "outputId": "c97cc091-cb8b-4ebe-af68-38aafeda1a8f"
      },
      "outputs": [
        {
          "output_type": "execute_result",
          "data": {
            "text/plain": [
              "1182"
            ]
          },
          "metadata": {},
          "execution_count": 8
        }
      ],
      "source": [
        "# Rank of features matrix\n",
        "np.linalg.matrix_rank(features_train_new)"
      ]
    },
    {
      "cell_type": "markdown",
      "source": [
        "Since rank = 1182 < columns = 1254, our features matrix is rank deficient. Perform SVD and only keep the linearly independent columns of our features matrix to ensure we can calculate the inverse of its Hessian later on in Newton's method."
      ],
      "metadata": {
        "id": "Nq-OeDnCxZpg"
      }
    },
    {
      "cell_type": "code",
      "source": [
        "# Perform SVD to remove linearly dependent columns\n",
        "U, S, Vt = np.linalg.svd(features_train_new, full_matrices=False)\n",
        "\n",
        "# Reduce the matrix to only the independent columns\n",
        "rank = np.sum(S > 1e-10)\n",
        "independent_columns = Vt[:rank, :]\n",
        "features_train_new_reduced = features_train_new @ independent_columns.T"
      ],
      "metadata": {
        "id": "VjBQxVDrnK51"
      },
      "execution_count": 9,
      "outputs": []
    },
    {
      "cell_type": "code",
      "source": [
        "# Shape of reduced features matrix with only linearly independent columns\n",
        "np.shape(features_train_new_reduced)"
      ],
      "metadata": {
        "colab": {
          "base_uri": "https://localhost:8080/"
        },
        "id": "tYkd0kA4pZBg",
        "outputId": "317c5d29-731a-4ad4-8e99-6a341a51b63c"
      },
      "execution_count": 10,
      "outputs": [
        {
          "output_type": "execute_result",
          "data": {
            "text/plain": [
              "(41331, 1184)"
            ]
          },
          "metadata": {},
          "execution_count": 10
        }
      ]
    },
    {
      "cell_type": "code",
      "execution_count": 11,
      "metadata": {
        "id": "Wlza91-p0ou-"
      },
      "outputs": [],
      "source": [
        "# Extract features (X) and target (y)\n",
        "X = features_train_new_reduced\n",
        "y = labels_train_new\n",
        "y = np.array(y).ravel()"
      ]
    },
    {
      "cell_type": "code",
      "execution_count": 12,
      "metadata": {
        "id": "ejGW2QoR0t3_"
      },
      "outputs": [],
      "source": [
        "# Normalize columns of X\n",
        "scaler = StandardScaler()\n",
        "X = scaler.fit_transform(X)"
      ]
    },
    {
      "cell_type": "code",
      "execution_count": 13,
      "metadata": {
        "id": "nLqGEqx20vlm"
      },
      "outputs": [],
      "source": [
        "# Add a column of ones to X for the intercept\n",
        "X = np.hstack([np.ones((X.shape[0], 1)), X])"
      ]
    },
    {
      "cell_type": "markdown",
      "metadata": {
        "id": "N7w04JB0zq7h"
      },
      "source": [
        "## Running Newton's Method Ridge Regression"
      ]
    },
    {
      "cell_type": "code",
      "execution_count": 14,
      "metadata": {
        "colab": {
          "base_uri": "https://localhost:8080/"
        },
        "id": "n84PCiy8tm0C",
        "outputId": "82ec7ed0-3d69-4100-9aa7-b554cdc2baae"
      },
      "outputs": [
        {
          "output_type": "stream",
          "name": "stdout",
          "text": [
            "Newton's Method did not converge within the maximum number of iterations.\n",
            "Final Coefficients: [ 755929.58409533 -194693.98944323   46393.30846807 ...   -1323.58991456\n",
            "   -2925.32218952   -5536.6645635 ]\n",
            "Final R^2: 0.6354504339693969\n",
            "Final MAE: 179695.4060014689\n",
            "Final RMSE: 262443.674796386\n"
          ]
        }
      ],
      "source": [
        "# Set regularization parameter\n",
        "lambda_ = 1e-6\n",
        "\n",
        "# Fit the model using Ridge Regression with Newton's Method\n",
        "beta, convergence, r2_scores, mae_scores, rmse_scores = ridge_regression_newton(X, y, lambda_=lambda_)\n",
        "\n",
        "# Print results\n",
        "print(\"Final Coefficients:\", beta)\n",
        "print(\"Final R^2:\", r2_scores[-1])\n",
        "print(\"Final MAE:\", mae_scores[-1])\n",
        "print(\"Final RMSE:\", rmse_scores[-1])"
      ]
    },
    {
      "cell_type": "code",
      "execution_count": 15,
      "metadata": {
        "colab": {
          "base_uri": "https://localhost:8080/",
          "height": 472
        },
        "id": "6q882TOavhLX",
        "outputId": "2ee13280-88ab-47a6-cd79-01c41867ed73"
      },
      "outputs": [
        {
          "output_type": "display_data",
          "data": {
            "text/plain": [
              "<Figure size 640x480 with 1 Axes>"
            ],
            "image/png": "[encoded data removed]"
          },
          "metadata": {}
        }
      ],
      "source": [
        "# Plot convergence\n",
        "plt.figure()\n",
        "plt.plot(convergence, marker='o', linestyle='-', color='b')\n",
        "plt.xlabel('Iteration')\n",
        "plt.ylabel('Gradient Norm')\n",
        "plt.title('Convergence of Newton\\'s Method (Ridge Regression)')\n",
        "plt.grid(True)\n",
        "plt.show()"
      ]
    },
    {
      "cell_type": "code",
      "execution_count": 16,
      "metadata": {
        "colab": {
          "base_uri": "https://localhost:8080/",
          "height": 472
        },
        "id": "UmBgSBF6Jv3w",
        "outputId": "e4c22d31-e368-41a3-9632-d499c2736347"
      },
      "outputs": [
        {
          "output_type": "display_data",
          "data": {
            "text/plain": [
              "<Figure size 640x480 with 1 Axes>"
            ],
            "image/png": "[encoded data removed]"
          },
          "metadata": {}
        }
      ],
      "source": [
        "# Plot accuracy\n",
        "plt.figure()\n",
        "plt.plot(r2_scores, marker='o', linestyle='-', color='g')\n",
        "plt.xlabel('Iteration')\n",
        "plt.ylabel('R^2 Score')\n",
        "plt.title('Accuracy over Iterations (R^2 Score)')\n",
        "plt.grid(True)\n",
        "plt.show()"
      ]
    },
    {
      "cell_type": "code",
      "execution_count": 17,
      "metadata": {
        "id": "bMsspzUWznxf"
      },
      "outputs": [],
      "source": [
        "# Compute the closed-form solution\n",
        "beta_closed_form = ridge_regression_closed_form(X, y, lambda_)"
      ]
    },
    {
      "cell_type": "code",
      "execution_count": 18,
      "metadata": {
        "colab": {
          "base_uri": "https://localhost:8080/"
        },
        "id": "vcMoPe6azrix",
        "outputId": "8be9b691-799e-4b8b-8ddb-63c28f80ee8b"
      },
      "outputs": [
        {
          "output_type": "stream",
          "name": "stdout",
          "text": [
            "Beta from Newton's Method: [ 755929.58409533 -194693.98944323   46393.30846807 ...   -1323.58991456\n",
            "   -2925.32218952   -5536.6645635 ]\n",
            "Beta from Closed-Form Solution: [ 755929.58409533 -194693.98943599   46393.30857923 ...   -1323.59192808\n",
            "   -2925.03214256   -5537.25966315]\n",
            "Difference between Newton's Method and Closed-Form Solution: 1.112239341431705\n"
          ]
        }
      ],
      "source": [
        "# Print and compare both solutions\n",
        "print(\"Beta from Newton's Method:\", beta)\n",
        "print(\"Beta from Closed-Form Solution:\", beta_closed_form)\n",
        "\n",
        "# Check the difference\n",
        "difference = np.linalg.norm(beta - beta_closed_form)\n",
        "print(\"Difference between Newton's Method and Closed-Form Solution:\", difference)"
      ]
    }
  ],
  "metadata": {
    "colab": {
      "provenance": []
    },
    "kernelspec": {
      "display_name": "Python 3",
      "name": "python3"
    },
    "language_info": {
      "name": "python"
    }
  },
  "nbformat": 4,
  "nbformat_minor": 0
}