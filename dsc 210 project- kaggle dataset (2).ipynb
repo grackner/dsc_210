{
 "cells": [
  {
   "cell_type": "markdown",
   "id": "ba672cf8",
   "metadata": {},
   "source": [
    "## Housing Prices in California (for sale)"
   ]
  },
  {
   "cell_type": "code",
   "execution_count": 1,
   "id": "b5f6d8a1",
   "metadata": {
    "scrolled": true
   },
   "outputs": [],
   "source": [
    "import pandas as pd\n",
    "from sklearn.model_selection import train_test_split\n",
    "from sklearn.metrics import mean_squared_error\n",
    "from sklearn.linear_model import LinearRegression\n",
    "import numpy as np"
   ]
  },
  {
   "cell_type": "code",
   "execution_count": null,
   "id": "4e4442f8",
   "metadata": {
    "scrolled": true
   },
   "outputs": [],
   "source": [
    "# Read in the data- US Housing Prices\n",
    "data = pd.read_csv('housing_prices_us.csv')\n",
    "data.head()"
   ]
  },
  {
   "cell_type": "code",
   "execution_count": null,
   "id": "8044733b",
   "metadata": {},
   "outputs": [],
   "source": [
    "# Filter the data\n",
    "data = data[(data['state'] == 'California') & (data['status'] == 'for_sale')]\n",
    "len(data)"
   ]
  },
  {
   "cell_type": "code",
   "execution_count": null,
   "id": "999277dd",
   "metadata": {},
   "outputs": [],
   "source": [
    "# Clean the data\n",
    "# Zipcode is not null or zero\n",
    "data = data[(data['zip_code'].isna() == False) & (data['zip_code'] != 0.0)]\n",
    "data['zip_code'] = data['zip_code'].astype(int).astype(str)\n",
    "\n",
    "# Status as string\n",
    "data['status'] = data['status'].astype(str)\n",
    "data['city'] = data['city'].astype(str)\n",
    "data['bed'] = data['bed'].fillna(0).astype(int)\n",
    "data['bath'] = data['bath'].fillna(0).astype(int)\n",
    "data['price'] = data['price'].fillna(0).astype(int)\n",
    "data['house_size'] = data['house_size'].fillna(0).astype(int)\n",
    "data['zip_code'] = data['zip_code'].astype(str)\n",
    "# Filter out where bed and bath are zero\n",
    "data = data[(data['bed'] != 0) & (data['bath'] != 0) & (data['price'] != 0) & (data['house_size'] != 0)]\n"
   ]
  },
  {
   "cell_type": "code",
   "execution_count": null,
   "id": "99517194",
   "metadata": {},
   "outputs": [],
   "source": [
    "# Ensure data types\n",
    "data.dtypes"
   ]
  },
  {
   "cell_type": "code",
   "execution_count": null,
   "id": "d39f800d",
   "metadata": {},
   "outputs": [],
   "source": [
    "# Explore the data- important features\n",
    "data.columns\n",
    "# Likely important features- house size bed, bath, city, zip_code"
   ]
  },
  {
   "cell_type": "code",
   "execution_count": null,
   "id": "b2584684",
   "metadata": {},
   "outputs": [],
   "source": [
    "data.head()"
   ]
  },
  {
   "cell_type": "code",
   "execution_count": null,
   "id": "0430f01b",
   "metadata": {},
   "outputs": [],
   "source": [
    "# Linear regression model- human chosen features\n",
    "# Create subset of relevant columns\n",
    "subset = data[['price', 'bed', 'bath', 'acre_lot', 'city', 'house_size']]\n",
    "subset = subset.dropna()\n",
    "# Turn city into dummy variable\n",
    "features = subset.loc[:, subset.columns != 'price']\n",
    "features = pd.get_dummies(features, columns=['city'])\n",
    "labels = subset['price']"
   ]
  },
  {
   "cell_type": "code",
   "execution_count": null,
   "id": "184f657d",
   "metadata": {},
   "outputs": [],
   "source": [
    "features_train, features_test, labels_train, labels_test = \\\n",
    "    train_test_split(features, labels, test_size=0.2)\n",
    "\n",
    "features_train.to_csv('features_train.csv')\n",
    "features_test.to_csv('features_test.csv')\n",
    "labels_train.to_csv('labels_train.csv')\n",
    "labels_train.to_csv('labels_test.csv')"
   ]
  },
  {
   "cell_type": "code",
   "execution_count": null,
   "id": "f866139e",
   "metadata": {},
   "outputs": [],
   "source": [
    "model = LinearRegression()"
   ]
  },
  {
   "cell_type": "code",
   "execution_count": null,
   "id": "4bd04ad3",
   "metadata": {},
   "outputs": [],
   "source": [
    "model.fit(features_train, labels_train)"
   ]
  },
  {
   "cell_type": "code",
   "execution_count": null,
   "id": "bf6336c4",
   "metadata": {},
   "outputs": [],
   "source": [
    "print(model.coef_)"
   ]
  },
  {
   "cell_type": "code",
   "execution_count": null,
   "id": "dea8ba06",
   "metadata": {},
   "outputs": [],
   "source": [
    "train_predictions = model.predict(features_train)\n",
    "test_predictions = model.predict(features_test)"
   ]
  },
  {
   "cell_type": "code",
   "execution_count": null,
   "id": "79e688ee",
   "metadata": {},
   "outputs": [],
   "source": [
    "# Testing\n",
    "train_acc = mean_squared_error(labels_train, train_predictions)\n",
    "test_acc = mean_squared_error(labels_test, test_predictions)\n",
    "print(np.sqrt(test_acc))"
   ]
  },
  {
   "cell_type": "code",
   "execution_count": null,
   "id": "66e45443",
   "metadata": {},
   "outputs": [],
   "source": [
    "from sklearn.metrics import r2_score\n",
    "r2 = r2_score(labels_test, test_predictions)\n",
    "print(r2)"
   ]
  },
  {
   "cell_type": "code",
   "execution_count": null,
   "id": "805f3848",
   "metadata": {},
   "outputs": [],
   "source": [
    "# Linear regression model- model chosen features\n",
    "## Improving our model but using GridSearchCV to find the best hyperparameters\n",
    "from sklearn import svm, datasets\n",
    "from sklearn.model_selection import GridSearchCV\n",
    "from sklearn.ensemble import GradientBoostingRegressor\n",
    "parameters = {'learning_rate': [0.01,0.02,0.03,0.04],\n",
    "                  'subsample'    : [0.9, 0.5, 0.2, 0.1],\n",
    "                  'n_estimators' : [100,500,1000, 1500],\n",
    "                  'max_depth'    : [4,6,8,10]\n",
    "                 }\n",
    "GBR = GradientBoostingRegressor()\n",
    "grid_GBR = GridSearchCV(estimator=GBR, param_grid = parameters, cv = 2, n_jobs=-1)\n",
    "grid_GBR.fit(features_train, labels_train)\n",
    "print(\" Results from Grid Search \" )\n",
    "print(\"\\n The best estimator across ALL searched params:\\n\",grid_GBR.best_estimator_)\n",
    "print(\"\\n The best score across ALL searched params:\\n\",grid_GBR.best_score_)\n",
    "print(\"\\n The best parameters across ALL searched params:\\n\",grid_GBR.best_params_)"
   ]
  },
  {
   "cell_type": "code",
   "execution_count": null,
   "id": "38b7fbb3",
   "metadata": {},
   "outputs": [],
   "source": [
    "# Testing"
   ]
  },
  {
   "cell_type": "code",
   "execution_count": null,
   "id": "0e69e5ce",
   "metadata": {},
   "outputs": [],
   "source": [
    "# LIME- further explain feature relevance"
   ]
  },
  {
   "cell_type": "code",
   "execution_count": null,
   "id": "491f36ca",
   "metadata": {},
   "outputs": [],
   "source": [
    "# Add visualizations"
   ]
  }
 ],
 "metadata": {
  "kernelspec": {
   "display_name": "Python 3 (ipykernel)",
   "language": "python",
   "name": "python3"
  },
  "language_info": {
   "codemirror_mode": {
    "name": "ipython",
    "version": 3
   },
   "file_extension": ".py",
   "mimetype": "text/x-python",
   "name": "python",
   "nbconvert_exporter": "python",
   "pygments_lexer": "ipython3",
   "version": "3.9.13"
  }
 },
 "nbformat": 4,
 "nbformat_minor": 5
}
