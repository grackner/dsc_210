{
  "cells": [
    {
      "cell_type": "code",
      "execution_count": 1,
      "metadata": {
        "id": "z8bKTOQhj2hP"
      },
      "outputs": [],
      "source": [
        "import numpy as np\n",
        "import pandas as pd\n",
        "import matplotlib.pyplot as plt\n",
        "from sklearn.metrics import mean_absolute_error, mean_squared_error, r2_score\n",
        "import time"
      ]
    },
    {
      "cell_type": "markdown",
      "metadata": {
        "id": "PtUQWS7Dyreo"
      },
      "source": [
        "## Ridge Regression Using Newton's Method"
      ]
    },
    {
      "cell_type": "code",
      "execution_count": 2,
      "metadata": {
        "id": "5D-CIqz_ydQ7"
      },
      "outputs": [],
      "source": [
        "# Newton's method for ridge regression\n",
        "def ridge_regression_newton(X, y, lambda_, max_iter=20, tol=1e-9):\n",
        "\n",
        "    # Start timing\n",
        "    start_time = time.perf_counter()\n",
        "\n",
        "    #Initializations\n",
        "    n_features = X.shape[1]\n",
        "    beta = np.zeros(n_features)\n",
        "    convergence = []\n",
        "    r2_scores = []\n",
        "    mae_scores = []\n",
        "    rmse_scores = []\n",
        "\n",
        "    # Compute Hessian\n",
        "    hessian = X.T @ X + lambda_ * np.eye(n_features)\n",
        "\n",
        "    for iteration in range(max_iter):\n",
        "        # Calculate predictions\n",
        "        predictions = X @ beta\n",
        "\n",
        "        # Compute residuals\n",
        "        residuals = y - predictions\n",
        "\n",
        "        # Compute gradient\n",
        "        gradient = -X.T @ residuals + lambda_ * beta\n",
        "\n",
        "        # Update beta using Newton's method\n",
        "        beta_update = np.linalg.solve(hessian, gradient)\n",
        "        beta -= beta_update\n",
        "\n",
        "        # Track convergence\n",
        "        grad_norm = np.linalg.norm(beta_update, ord=2)\n",
        "        convergence.append(grad_norm)\n",
        "\n",
        "        # Track metrics\n",
        "        r2_scores.append(r2_score(y, predictions))\n",
        "        mae_scores.append(mean_absolute_error(y, predictions))\n",
        "        rmse_scores.append(np.sqrt(mean_squared_error(y, predictions)))\n",
        "\n",
        "        # Check for convergence\n",
        "        if grad_norm < tol:\n",
        "            print(f\"Converged in {iteration} iterations.\")\n",
        "            break\n",
        "    else:\n",
        "        print(\"Newton's Method did not converge within the maximum number of iterations.\")\n",
        "\n",
        "    # Stop timing\n",
        "    end_time = time.perf_counter()\n",
        "    time_newton = end_time - start_time\n",
        "\n",
        "    return beta, convergence, r2_scores, mae_scores, rmse_scores, time_newton"
      ]
    },
    {
      "cell_type": "code",
      "execution_count": 3,
      "metadata": {
        "id": "TsBYmGxJziah"
      },
      "outputs": [],
      "source": [
        "# Closed form solution for ridge regression\n",
        "def ridge_regression_closed_form(X, y, lambda_):\n",
        "    # Start timing\n",
        "    start_time = time.perf_counter()\n",
        "\n",
        "    n_features = X.shape[1]\n",
        "    I = np.eye(n_features)\n",
        "    ret = np.linalg.inv(X.T @ X + lambda_ * I) @ X.T @ y\n",
        "\n",
        "    # Stop timing\n",
        "    end_time = time.perf_counter()\n",
        "    time_closed = end_time - start_time\n",
        "\n",
        "    return ret, time_closed"
      ]
    },
    {
      "cell_type": "markdown",
      "metadata": {
        "id": "SGo7qScHz3SI"
      },
      "source": [
        "## Reading Cleaned Data"
      ]
    },
    {
      "cell_type": "code",
      "execution_count": 4,
      "metadata": {
        "id": "B3IolaGvz5YS"
      },
      "outputs": [],
      "source": [
        "# Read in cleaned data\n",
        "features_train = pd.read_csv('X_train.csv', index_col = 0)\n",
        "features_test = pd.read_csv('X_test.csv', index_col = 0)\n",
        "labels_train = pd.read_csv('y_train.csv', index_col = 0).squeeze()\n",
        "labels_test = pd.read_csv('y_test.csv', index_col = 0).squeeze()"
      ]
    },
    {
      "cell_type": "code",
      "execution_count": 5,
      "metadata": {
        "colab": {
          "base_uri": "https://localhost:8080/"
        },
        "id": "TSXkEmTCvvTd",
        "outputId": "9f319401-6e25-4b18-caf9-e9de0d850844"
      },
      "outputs": [
        {
          "data": {
            "text/plain": [
              "(41331, 1254)"
            ]
          },
          "execution_count": 5,
          "metadata": {},
          "output_type": "execute_result"
        }
      ],
      "source": [
        "# Shape of features matrix\n",
        "np.shape(features_train)"
      ]
    },
    {
      "cell_type": "code",
      "execution_count": 6,
      "metadata": {
        "colab": {
          "base_uri": "https://localhost:8080/"
        },
        "id": "wJnpoQoj1oPm",
        "outputId": "9edfc94c-c0c2-4d40-d5dd-5995451d6f8e"
      },
      "outputs": [
        {
          "data": {
            "text/plain": [
              "np.int64(1182)"
            ]
          },
          "execution_count": 6,
          "metadata": {},
          "output_type": "execute_result"
        }
      ],
      "source": [
        "# Rank of features matrix\n",
        "np.linalg.matrix_rank(features_train)"
      ]
    },
    {
      "cell_type": "markdown",
      "metadata": {
        "id": "Nq-OeDnCxZpg"
      },
      "source": [
        "Since rank = 1182 < columns = 1254, our features matrix is rank deficient. Perform SVD and only keep the linearly independent columns of our features matrix to ensure we can calculate the inverse of its Hessian later on in Newton's method."
      ]
    },
    {
      "cell_type": "code",
      "execution_count": 7,
      "metadata": {},
      "outputs": [],
      "source": [
        "def perform_svd(train_data, test_data):\n",
        "    # Start timing\n",
        "    start_time = time.perf_counter()\n",
        "\n",
        "    # Perform SVD to remove linearly dependent columns\n",
        "    U, S, Vt = np.linalg.svd(train_data, full_matrices=False)\n",
        "\n",
        "    # Determine linearly independent columns\n",
        "    rank = np.sum(S > 1e-10)\n",
        "    independent_columns = Vt[:rank, :]\n",
        "\n",
        "    # Reduce the training data to only linearly independent columns\n",
        "    train_new = train_data @ independent_columns.T\n",
        "\n",
        "    # Stop timing\n",
        "    end_time = time.perf_counter()\n",
        "    time_svd = end_time - start_time\n",
        "\n",
        "    # Reduce the testing data to be the same columns as the training data\n",
        "    test_new = test_data @ independent_columns.T\n",
        "\n",
        "    print(\"Shape of training data after SVD:\", np.shape(train_new))\n",
        "    print(\"Shape of testing data after SVD:\", np.shape(test_new))\n",
        "    print(f\"SVD Reduction Run Time (s): {time_svd:.2f}\")\n",
        "\n",
        "    return train_new, test_new, time_svd"
      ]
    },
    {
      "cell_type": "code",
      "execution_count": 8,
      "metadata": {},
      "outputs": [
        {
          "name": "stdout",
          "output_type": "stream",
          "text": [
            "Shape of training data after SVD: (41331, 1182)\n",
            "Shape of testing data after SVD: (27554, 1182)\n",
            "SVD Reduction Run Time (s): 9.53\n"
          ]
        }
      ],
      "source": [
        "# Remove linearly dependent columns from training and testing data\n",
        "X_train_reduced, X_test_reduced, time_svd = perform_svd(features_train, features_test)"
      ]
    },
    {
      "cell_type": "code",
      "execution_count": 9,
      "metadata": {
        "colab": {
          "base_uri": "https://localhost:8080/"
        },
        "id": "tYkd0kA4pZBg",
        "outputId": "72a76d34-280e-4231-90b4-d13b7113c3ac"
      },
      "outputs": [
        {
          "data": {
            "text/plain": [
              "(41331, 1182)"
            ]
          },
          "execution_count": 9,
          "metadata": {},
          "output_type": "execute_result"
        }
      ],
      "source": [
        "# Shape of reduced features matrix with only linearly independent columns\n",
        "np.shape(X_train_reduced)"
      ]
    },
    {
      "cell_type": "code",
      "execution_count": 10,
      "metadata": {
        "id": "Wlza91-p0ou-"
      },
      "outputs": [],
      "source": [
        "# Extract features (X) and target (y)\n",
        "X_train = X_train_reduced\n",
        "y_train = labels_train\n",
        "X_test = X_test_reduced\n",
        "y_test = labels_test"
      ]
    },
    {
      "cell_type": "code",
      "execution_count": 11,
      "metadata": {
        "id": "nLqGEqx20vlm"
      },
      "outputs": [],
      "source": [
        "# Add a column of ones to X for the intercept\n",
        "X_train = np.hstack([np.ones((X_train.shape[0], 1)), X_train])\n",
        "X_test = np.hstack([np.ones((X_test.shape[0], 1)), X_test])"
      ]
    },
    {
      "cell_type": "markdown",
      "metadata": {
        "id": "N7w04JB0zq7h"
      },
      "source": [
        "## Training Newton's Method Ridge Regression"
      ]
    },
    {
      "cell_type": "code",
      "execution_count": 12,
      "metadata": {
        "colab": {
          "base_uri": "https://localhost:8080/"
        },
        "id": "n84PCiy8tm0C",
        "outputId": "1689b9a1-32b7-423a-a98e-acafed86978e"
      },
      "outputs": [
        {
          "name": "stdout",
          "output_type": "stream",
          "text": [
            "Newton's Method did not converge within the maximum number of iterations.\n",
            "Newton's Method Training Results\n",
            "\n",
            "----------\n",
            "\n",
            "Newton's Method Run Time (s): 3.96\n",
            "SVD Reduction Run Time (s): 9.53\n",
            "Total Run Time (s): 13.49\n",
            "\n",
            "----------\n",
            "\n",
            "The R squared of Newton's method is: 0.63\n",
            "The Mean Absolute Error (MAE) of Newton's method is: 180407.22\n",
            "The Root Mean Squared Error (RMSE) of Newton's method is: 262774.68\n"
          ]
        }
      ],
      "source": [
        "# Set regularization parameter\n",
        "lambda_ = .5\n",
        "\n",
        "# Fit the model using Ridge Regression with Newton's Method\n",
        "beta_newton, convergence_newton, r2_scores_newton, mae_scores_newton, rmse_scores_newton, time_newton = ridge_regression_newton(X_train, y_train, lambda_=lambda_)\n",
        "\n",
        "# Print results\n",
        "print(\"Newton's Method Training Results\")\n",
        "print(\"\\n----------\\n\")\n",
        "print(f\"Newton's Method Run Time (s): {time_newton:.2f}\")\n",
        "print(f\"SVD Reduction Run Time (s): {time_svd:.2f}\")\n",
        "print(f\"Total Run Time (s): {(time_newton + time_svd):.2f}\")\n",
        "print(\"\\n----------\\n\")\n",
        "print(f\"The R squared of Newton's method is: {r2_scores_newton[-1]:.2f}\")\n",
        "print(f\"The Mean Absolute Error (MAE) of Newton's method is: {mae_scores_newton[-1]:.2f}\")\n",
        "print(f\"The Root Mean Squared Error (RMSE) of Newton's method is: {rmse_scores_newton[-1]:.2f}\")"
      ]
    },
    {
      "cell_type": "code",
      "execution_count": 13,
      "metadata": {
        "colab": {
          "base_uri": "https://localhost:8080/",
          "height": 472
        },
        "id": "6q882TOavhLX",
        "outputId": "34e2904b-a58a-4183-aaea-09a8b25360c1"
      },
      "outputs": [
        {
          "data": {
            "image/png": "[encoded data removed]",
            "text/plain": [
              "<Figure size 640x480 with 1 Axes>"
            ]
          },
          "metadata": {},
          "output_type": "display_data"
        }
      ],
      "source": [
        "# Plot convergence\n",
        "plt.figure()\n",
        "plt.plot(convergence_newton, marker='o', linestyle='-', color='b')\n",
        "plt.yscale('log')\n",
        "plt.xlabel('Iteration')\n",
        "plt.ylabel('Gradient Norm')\n",
        "plt.title('Convergence of Newton\\'s Method (Ridge Regression)')\n",
        "plt.grid(True)\n",
        "plt.show()"
      ]
    },
    {
      "cell_type": "code",
      "execution_count": 14,
      "metadata": {
        "colab": {
          "base_uri": "https://localhost:8080/",
          "height": 472
        },
        "id": "UmBgSBF6Jv3w",
        "outputId": "917e5794-d519-42e3-a15d-4b4ebc6fd8fa"
      },
      "outputs": [
        {
          "data": {
            "image/png": "[encoded data removed]",
            "text/plain": [
              "<Figure size 640x480 with 1 Axes>"
            ]
          },
          "metadata": {},
          "output_type": "display_data"
        }
      ],
      "source": [
        "# Plot accuracy\n",
        "plt.figure()\n",
        "plt.plot(r2_scores_newton, marker='o', linestyle='-', color='g')\n",
        "plt.xlabel('Iteration')\n",
        "plt.ylabel('R^2 Score')\n",
        "plt.title('Accuracy over Iterations (R^2 Score)')\n",
        "plt.grid(True)\n",
        "plt.show()"
      ]
    },
    {
      "cell_type": "markdown",
      "metadata": {
        "id": "bwtoH7HQiTSZ"
      },
      "source": [
        "## Comparing to Closed-Form Solution"
      ]
    },
    {
      "cell_type": "code",
      "execution_count": 15,
      "metadata": {
        "id": "bMsspzUWznxf"
      },
      "outputs": [],
      "source": [
        "# Compute the closed-form solution\n",
        "beta_closed_form, time_closed = ridge_regression_closed_form(X_train, y_train, lambda_)"
      ]
    },
    {
      "cell_type": "code",
      "execution_count": 16,
      "metadata": {
        "colab": {
          "base_uri": "https://localhost:8080/"
        },
        "id": "vcMoPe6azrix",
        "outputId": "2ddc4059-3515-4b42-9c40-6d9497d865b5"
      },
      "outputs": [
        {
          "name": "stdout",
          "output_type": "stream",
          "text": [
            "Beta from Newton's Method: [ 4.96055532e+05 -5.19601360e+01  2.49135813e+05 ...  4.31981708e+05\n",
            "  5.46174707e+05 -1.20774341e+05]\n",
            "Beta from Closed-Form Solution: [ 4.96055532e+05 -5.19601360e+01  2.49135813e+05 ...  4.31981708e+05\n",
            "  5.46174707e+05 -1.20774341e+05]\n",
            "Difference between Newton's Method and Closed-Form Solution: 5.860175051766509e-07\n"
          ]
        }
      ],
      "source": [
        "# Print and compare both solutions\n",
        "print(\"Beta from Newton's Method:\", beta_newton)\n",
        "print(\"Beta from Closed-Form Solution:\", beta_closed_form)\n",
        "\n",
        "# Check the difference\n",
        "difference = np.linalg.norm(beta_newton - beta_closed_form)\n",
        "print(\"Difference between Newton's Method and Closed-Form Solution:\", difference)"
      ]
    },
    {
      "cell_type": "code",
      "execution_count": 17,
      "metadata": {
        "id": "v9fSlXgVhyWq"
      },
      "outputs": [],
      "source": [
        "# Compute metrics for Closed-Form Solution\n",
        "predictions_closed = X_train @ beta_closed_form\n",
        "r2_closed = r2_score(y_train, predictions_closed)"
      ]
    },
    {
      "cell_type": "code",
      "execution_count": 18,
      "metadata": {
        "colab": {
          "base_uri": "https://localhost:8080/"
        },
        "id": "b9cGNMvKh6wt",
        "outputId": "f75c7ffb-d3bc-4f04-ec8f-245ba37c0506"
      },
      "outputs": [
        {
          "name": "stdout",
          "output_type": "stream",
          "text": [
            "Method Comparison:\n",
            "-------------------------------------------------\n",
            "Metric               Newton          Closed-Form    \n",
            "R² Score             0.6345          0.6345         \n",
            "Execution Time (s)   3.964150        1.638431       \n"
          ]
        }
      ],
      "source": [
        "print(\"Method Comparison:\")\n",
        "print(\"-------------------------------------------------\")\n",
        "print(f\"{'Metric':<20} {'Newton':<15} {'Closed-Form':<15}\")\n",
        "print(f\"{'R² Score':<20} {r2_scores_newton[-1]:<15.4f} {r2_closed:<15.4f}\")\n",
        "print(f\"{'Execution Time (s)':<20} {time_newton:<15.6f} {time_closed:<15.6f}\")"
      ]
    },
    {
      "cell_type": "markdown",
      "metadata": {},
      "source": [
        "## Testing Results"
      ]
    },
    {
      "cell_type": "code",
      "execution_count": 19,
      "metadata": {},
      "outputs": [],
      "source": [
        "def test_model(beta, X_test, y_test):\n",
        "    # Make predictions\n",
        "    y_pred_test = X_test @ beta\n",
        "\n",
        "    # Print results\n",
        "    print(\"Newton's Method Testing Results\")\n",
        "    print(\"\\n----------\\n\")\n",
        "    print(f\"The R squared of Newton's method is: {r2_score(y_test, y_pred_test):.2f}\")\n",
        "    print(f\"The Mean Absolute Error (MAE) of Newton's method is: {mean_absolute_error(y_test, y_pred_test):.2f}\")\n",
        "    print(f\"The Root Mean Squared Error (RMSE) of Newton's method is: {np.sqrt(mean_squared_error(y_test, y_pred_test)):.2f}\")"
      ]
    },
    {
      "cell_type": "code",
      "execution_count": 20,
      "metadata": {},
      "outputs": [
        {
          "name": "stdout",
          "output_type": "stream",
          "text": [
            "Newton's Method Testing Results\n",
            "\n",
            "----------\n",
            "\n",
            "The R squared of Newton's method is: 0.61\n",
            "The Mean Absolute Error (MAE) of Newton's method is: 187181.66\n",
            "The Root Mean Squared Error (RMSE) of Newton's method is: 273822.51\n"
          ]
        }
      ],
      "source": [
        "test_model(beta_newton, X_test, y_test)"
      ]
    }
  ],
  "metadata": {
    "colab": {
      "provenance": []
    },
    "kernelspec": {
      "display_name": "Python 3",
      "name": "python3"
    },
    "language_info": {
      "codemirror_mode": {
        "name": "ipython",
        "version": 3
      },
      "file_extension": ".py",
      "mimetype": "text/x-python",
      "name": "python",
      "nbconvert_exporter": "python",
      "pygments_lexer": "ipython3",
      "version": "3.9.6"
    }
  },
  "nbformat": 4,
  "nbformat_minor": 0
}
